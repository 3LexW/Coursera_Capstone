{
    "nbformat_minor": 1, 
    "cells": [
        {
            "source": "# Segmenting and Clustering Neighborhoods in Toronto", 
            "cell_type": "markdown", 
            "metadata": {
                "collapsed": true
            }
        }, 
        {
            "source": "## 1.Start by creating a new Notebook for this assignment.", 
            "cell_type": "markdown", 
            "metadata": {}
        }, 
        {
            "source": "## 2.Use the Notebook to build the code to scrape the following Wikipedia page, https://en.wikipedia.org/wiki/List_of_postal_codes_of_Canada:_M, in order to obtain the data that is in the table of postal codes and to transform the data into a pandas dataframe like the one shown below:", 
            "cell_type": "markdown", 
            "metadata": {}
        }, 
        {
            "execution_count": 1, 
            "cell_type": "code", 
            "metadata": {}, 
            "outputs": [], 
            "source": "#import the libaries\nimport pandas as pd\nimport numpy as np\nimport requests\nfrom bs4 import BeautifulSoup"
        }, 
        {
            "execution_count": 44, 
            "cell_type": "code", 
            "metadata": {}, 
            "outputs": [
                {
                    "output_type": "stream", 
                    "name": "stdout", 
                    "text": "Total numbers of rows:  289\nOriginal Columns:  ['Postcode', 'Borough', 'Neighbourhood\\n']\nModified Columns:  ['Postcode', 'Borough', 'Neighbourhood']\n"
                }
            ], 
            "source": "link = 'https://en.wikipedia.org/wiki/List_of_postal_codes_of_Canada:_M'\npage = requests.get(link).text\nsoup = BeautifulSoup(page, 'lxml')\n\n#Extract the table, which it's class is table, and use 'wikitable' as tag\n#This can be found by reading the html code of the page, by pressing F12 when browsing the page using Google Chrome, or other methods to extract the html code\ntable = soup.find('table', class_= 'wikitable')\n\n#Extract the rows\nrows = table.find_all('tr')\nprint(\"Total numbers of rows: \", len(rows))\n\n#Extract the columns\ncolumns = [v.text for v in rows[0].find_all('th')]\nprint(\"Original Columns: \", columns)\n\n#Delete the '\\n' symbols in columns\ncolumns = [v.text.replace('\\n', '') for v in rows[0].find_all('th')]\nprint(\"Modified Columns: \", columns)"
        }, 
        {
            "source": "## 3. Create the dataframe:", 
            "cell_type": "markdown", 
            "metadata": {}
        }, 
        {
            "execution_count": 66, 
            "cell_type": "code", 
            "metadata": {}, 
            "outputs": [
                {
                    "output_type": "stream", 
                    "name": "stdout", 
                    "text": "Empty DataFrame\nColumns: [Postcode, Borough, Neighbourhood]\nIndex: [] \n\nOriginal Row:  ['M1A', 'Not assigned', 'Not assigned\\n']\nModified Row:  ['M1A', 'Not assigned', 'Not assigned'] \n\nThe type of a row is:  <class 'list'> \n\n  Postcode           Borough     Neighbourhood\n0      M1A      Not assigned      Not assigned\n1      M2A      Not assigned      Not assigned\n2      M3A        North York         Parkwoods\n3      M4A        North York  Victoria Village\n4      M5A  Downtown Toronto      Harbourfront\n"
                }
            ], 
            "source": "#Import the information into the pandas dataframe\ndf = pd.DataFrame(columns = columns)\nprint(df, '\\n')\n\n#Lets extract one row to see if everything is okay\nrow = [v.text for v in rows[1].find_all('td')]\nprint (\"Original Row: \", row)\n\n#Again, Delete the '\\n' symbols in the row\nrow = [v.text.replace('\\n', '') for v in rows[1].find_all('td')]\nprint (\"Modified Row: \", row, '\\n')\nprint (\"The type of a row is: \", type(row), '\\n')\n\n#Now, insert all row information into the dataframe\nfor i in range(1, len(rows)):#Skip the first row becasue it's already in the column name\n    row_i = [v.text.replace('\\n', '') for v in rows[i].find_all('td')]\n    #A list is generated, \n    df = df.append(pd.Series(row_i, index = columns), ignore_index = True)\n\nprint(df.head())"
        }, 
        {
            "execution_count": 82, 
            "cell_type": "code", 
            "metadata": {}, 
            "outputs": [
                {
                    "output_type": "stream", 
                    "name": "stdout", 
                    "text": "  Postcode           Borough     Neighbourhood\n0      M3A        North York         Parkwoods\n1      M4A        North York  Victoria Village\n2      M5A  Downtown Toronto      Harbourfront\n3      M5A  Downtown Toronto       Regent Park\n4      M6A        North York  Lawrence Heights\n5      M6A        North York    Lawrence Manor\n6      M7A      Queen's Park      Queen's Park\n7      M9A         Etobicoke  Islington Avenue\n8      M1B       Scarborough             Rouge\n9      M1B       Scarborough           Malvern\n"
                }
            ], 
            "source": "#Find the rows with Not assigned value in Borough and drop them\nNA_borough = df[df['Borough'] == 'Not assigned'].index\ndf.drop(NA_borough, inplace = True)\ndf.reset_index (drop = True, inplace = True)\nprint(df.head(10))"
        }, 
        {
            "execution_count": 85, 
            "cell_type": "code", 
            "metadata": {}, 
            "outputs": [
                {
                    "output_type": "stream", 
                    "name": "stdout", 
                    "text": "NA_Neigh's information:  Int64Index([], dtype='int64') \n\n  Postcode           Borough     Neighbourhood\n0      M3A        North York         Parkwoods\n1      M4A        North York  Victoria Village\n2      M5A  Downtown Toronto      Harbourfront\n3      M5A  Downtown Toronto       Regent Park\n4      M6A        North York  Lawrence Heights\n5      M6A        North York    Lawrence Manor\n6      M7A      Queen's Park      Queen's Park\n"
                }
            ], 
            "source": "#Replace Not assigned neighbourhood with borough value\nNA_Neigh = df[df['Neighbourhood'] == 'Not assigned'].index\nprint(\"NA_Neigh's information: \", NA_Neigh, '\\n')\n\n#Since NA_Neigh has only one value, which is six, we will do a simple replace\n#df['Neighbourhood'][6] = df['Borough'][6]\n\n#Of course, it is better to use a loop\nfor i in NA_Neigh:\n    df['Neighbourhood'][i] = df['Borough'][i]\n    \n#Check if row index 6 is modified\nprint(df.head(7))"
        }, 
        {
            "execution_count": 101, 
            "cell_type": "code", 
            "metadata": {}, 
            "outputs": [
                {
                    "output_type": "stream", 
                    "name": "stdout", 
                    "text": "  Postcode      Borough                           Neighbourhood\n0      M1B  Scarborough                          Rouge, Malvern\n1      M1C  Scarborough  Highland Creek, Rouge Hill, Port Union\n2      M1E  Scarborough       Guildwood, Morningside, West Hill\n3      M1G  Scarborough                                  Woburn\n4      M1H  Scarborough                               Cedarbrae \nThe size of the dataframe is:  (103, 3)\n"
                }
            ], 
            "source": "#Combine the Postal codes\ndf = df.groupby(['Postcode', 'Borough'])['Neighbourhood'].apply(list).apply(lambda x:', '.join(x)).to_frame().reset_index()\nprint(df.head(), '\\nThe size of the dataframe is: ', df.shape)"
        }, 
        {
            "source": "## 4. Submit a link to your Notebook on your Github repository.", 
            "cell_type": "markdown", 
            "metadata": {}
        }, 
        {
            "execution_count": null, 
            "cell_type": "code", 
            "metadata": {}, 
            "outputs": [], 
            "source": ""
        }
    ], 
    "metadata": {
        "kernelspec": {
            "display_name": "Python 3.6", 
            "name": "python3", 
            "language": "python"
        }, 
        "language_info": {
            "mimetype": "text/x-python", 
            "nbconvert_exporter": "python", 
            "version": "3.6.8", 
            "name": "python", 
            "file_extension": ".py", 
            "pygments_lexer": "ipython3", 
            "codemirror_mode": {
                "version": 3, 
                "name": "ipython"
            }
        }
    }, 
    "nbformat": 4
}