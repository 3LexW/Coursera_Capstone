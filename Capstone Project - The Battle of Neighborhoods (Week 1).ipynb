{
    "nbformat_minor": 1, 
    "cells": [
        {
            "source": "# Capstone Project - The Battle of Neighborhoods (Week 1)", 
            "cell_type": "markdown", 
            "metadata": {
                "collapsed": true
            }
        }, 
        {
            "source": "## Introduction", 
            "cell_type": "markdown", 
            "metadata": {}
        }, 
        {
            "source": "Due to the recent political events happened in Hong Kong, our client, Mr.X, starts looking for information related to investment immegration in three cities.\nThese three cities are\n* Toronto, Canada\n* Boston, US\n* London, UK\n\nTo prevent strong feeling of nostalgia, Mr.X would like to first understand which city is most similar to where he currently lives, so he can save time for deep research of one city.\n\nThe project will perform analysis by:\n1. Define Mr.X's neighborhood\n2. Define neighborhoods in the previously listed three cities\n3. Perform clustering on all the neighborhoods, including Mr.X's neighborhood\n4. Calculate the similarity of the cities and provide suggestion", 
            "cell_type": "markdown", 
            "metadata": {}
        }, 
        {
            "source": "## Data", 
            "cell_type": "markdown", 
            "metadata": {}
        }, 
        {
            "source": "We will use the following data for analysis\n1. Area data of the three cities\nBy using Beautiful Soup library, we will extract the information \n\n * https://en.wikipedia.org/wiki/List_of_areas_of_London\n \n * https://en.wikipedia.org/wiki/Neighborhoods_in_Boston\n \n * https://torontolife.com/neighbourhood-rankings/#\n \n \n2. Foursquare\nUsing the Foorsquare API, we will extract the information related to the neighborhoods.\n * https://foursquare.com/city-guide", 
            "cell_type": "markdown", 
            "metadata": {}
        }, 
        {
            "execution_count": null, 
            "cell_type": "code", 
            "metadata": {}, 
            "outputs": [], 
            "source": ""
        }
    ], 
    "metadata": {
        "kernelspec": {
            "display_name": "Python 3.6", 
            "name": "python3", 
            "language": "python"
        }, 
        "language_info": {
            "mimetype": "text/x-python", 
            "nbconvert_exporter": "python", 
            "version": "3.6.8", 
            "name": "python", 
            "file_extension": ".py", 
            "pygments_lexer": "ipython3", 
            "codemirror_mode": {
                "version": 3, 
                "name": "ipython"
            }
        }
    }, 
    "nbformat": 4
}